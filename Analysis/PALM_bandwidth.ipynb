{
 "cells": [
  {
   "cell_type": "code",
   "execution_count": null,
   "metadata": {
    "collapsed": true
   },
   "outputs": [],
   "source": [
    "import h5py as h5\n",
    "import numpy as np\n",
    "import json\n",
    "import matplotlib.pyplot as plt\n",
    "import photodiag\n",
    "from scipy.optimize import curve_fit\n",
    "\n",
    "%matplotlib notebook"
   ]
  },
  {
   "cell_type": "code",
   "execution_count": null,
   "metadata": {
    "collapsed": true
   },
   "outputs": [],
   "source": [
    "def LoadData(datafn):\n",
    "    with h5.File(datafn, 'r') as f:\n",
    "        pulseIDs = f['pulse_id'][:]\n",
    "        TOF =-f['SAROP11-PALMK118:CH1_BUFFER/data'][:]\n",
    "        indexPumped = pulseIDs%2 == 0\n",
    "    return TOF, pulseIDs\n",
    "def gauss(x, *p):\n",
    "    A, mu, sigma = p\n",
    "    return A*np.exp(-((x-mu)**2/(2.*sigma**2)))\n",
    "def PrepData(DataIn):\n",
    "    BG = DataIn[0:100].mean()\n",
    "    return DataIn-BG"
   ]
  },
  {
   "cell_type": "code",
   "execution_count": null,
   "metadata": {
    "collapsed": true
   },
   "outputs": [],
   "source": [
    "# setup PALM Process\n",
    "palm = photodiag.PalmSetup(\n",
    "    channels={'0': 'SAROP11-PALMK118:CH1_BUFFER', '1': 'SAROP11-PALMK118:CH2_BUFFER'},\n",
    "#     noise_range=[0, 250], energy_range=np.linspace(5000, 5700, 1000), # @ 9 kev\n",
    "    noise_range=[0, 250], energy_range=np.linspace(500, 2500, 1000), # @ 8 kev looking at 2s in Xe\n",
    "    \n",
    "#     noise_range=[0, 250], energy_range=np.linspace(0, 5150, 1000),   \n",
    ")\n",
    "# palm.load_etof_calib(f'/sf/alvra/data/p17589/res/PhotoDiag/scan_info/2018-10-24_12:12:13.palm_etof')\n",
    "palm.load_etof_calib(f'/sf/alvra/data/p17589/res/PhotoDiag/scan_info/2019-03-25_11:53:57.palm_etof')\n"
   ]
  },
  {
   "cell_type": "code",
   "execution_count": null,
   "metadata": {},
   "outputs": [],
   "source": [
    "# Load data\n",
    "fn = '/sf/alvra/data/p17589/res/PhotoDiag/scan_info/PALM_resol_205_scan_info.json'\n",
    "\n",
    "with open(fn) as f:\n",
    "    data = json.load(f)\n",
    "numFiles = len(data['scan_files'])\n",
    "LensVolt = data['scan_values']\n",
    "# pulse_ids = f['data/SLAAR11-PALMK118:CH2_BUFFER/pulse_id'][:]\n",
    "\n",
    "TOF = []\n",
    "for i in range(0,numFiles):\n",
    "    (TOFtmp, pulseIDstmp) = LoadData(str(data['scan_files'][i][0]))\n",
    "    TOF.append(TOFtmp)\n",
    "TOF = np.asarray(TOF)\n",
    "TOF = TOF.mean(axis=1)\n",
    "\n",
    "streaked = 'SAROP11-PALMK118:CH1_BUFFER'\n",
    "reference = 'SAROP11-PALMK118:CH1_BUFFER'"
   ]
  },
  {
   "cell_type": "code",
   "execution_count": null,
   "metadata": {
    "collapsed": true
   },
   "outputs": [],
   "source": [
    "# PALM Proc\n",
    "eVInt =[]\n",
    "# eVInt2 =[]\n",
    "\n",
    "eV = palm.energy_range\n",
    "for i in range(0, TOF.shape[0]):\n",
    "    tmp = TOF[i,:]\n",
    "    delays, pulse_lengths, (input_data, lags, corr_res_uncut, corr_results)= palm.process({'0': tmp[np.newaxis,:], '1': tmp[np.newaxis,:]}, debug=True, noise_thr=0, jacobian=False, peak='max')\n",
    "    eVInt.append(input_data['0'][0,:])\n",
    "eVInt = np.asarray(eVInt)"
   ]
  },
  {
   "cell_type": "code",
   "execution_count": null,
   "metadata": {},
   "outputs": [],
   "source": [
    "plt.figure()\n",
    "plt.plot(palm.energy_range,eVInt[2,:])\n",
    "# plt.pcolormesh(eVInt)\n",
    "# plt.xlim([0,1000])"
   ]
  },
  {
   "cell_type": "code",
   "execution_count": null,
   "metadata": {
    "collapsed": true
   },
   "outputs": [],
   "source": [
    "LensVoltnp = np.asarray(LensVolt)"
   ]
  },
  {
   "cell_type": "code",
   "execution_count": null,
   "metadata": {},
   "outputs": [],
   "source": [
    "plt.figure()\n",
    "plt.pcolormesh(LensVoltnp[:,1], palm.energy_range,np.transpose(eVInt))\n",
    "# plt.ylim([1000, 2500])\n",
    "plt.xlabel('Lens voltage')\n",
    "plt.ylabel('Electron KE')"
   ]
  },
  {
   "cell_type": "code",
   "execution_count": null,
   "metadata": {},
   "outputs": [],
   "source": [
    "# Fit spectra\n",
    "p0 = [0.1, 1250,20]\n",
    "Coeff = []\n",
    "for i in range(0, TOF.shape[0]):\n",
    "    try:\n",
    "        coeff, var_matrix = curve_fit(gauss, eV, PrepData(eVInt[i,:]), p0=p0)\n",
    "        Coeff.append(coeff)\n",
    "    except:\n",
    "        Coeff.append([0,0,0])\n",
    "Coeff = np.asarray(Coeff)"
   ]
  },
  {
   "cell_type": "code",
   "execution_count": null,
   "metadata": {},
   "outputs": [],
   "source": [
    "fig=plt.figure()\n",
    "plt.subplot(2,1,1)\n",
    "plt.title(fn[46:])\n",
    "plt.plot(LensVolt, np.abs(Coeff[:,2]))\n",
    "# plt.ylim([10,25])\n",
    "plt.xlabel('Lens voltage')\n",
    "plt.ylabel('sigma [eV]')\n",
    "plt.subplot(2,1,2)\n",
    "plt.plot(LensVolt, np.abs(Coeff[:,0]))\n",
    "plt.xlabel('Lens voltage')\n",
    "plt.ylabel('Int [arb]')\n",
    "plt.tight_layout()\n",
    "fig.set_size_inches(18.5, 10.5)\n",
    "# fig.savefig('/das/work/units/alvra/p17569/PhotoDiag/figures/'+fn[46:60]+'.png')\n"
   ]
  },
  {
   "cell_type": "code",
   "execution_count": null,
   "metadata": {},
   "outputs": [],
   "source": [
    "plt.figure()\n",
    "plt.plot(palm.energy_range, eVInt[-1,:])\n",
    "plt.plot(eV, gauss(eV, *Coeff[-1,:]))\n",
    "plt.xlim([5400, 5500])"
   ]
  },
  {
   "cell_type": "code",
   "execution_count": null,
   "metadata": {},
   "outputs": [],
   "source": [
    "plt.figure()\n",
    "plt.pcolormesh(eV, LensVolt, eVInt)\n",
    "# plt.xlim([1200, 1800])"
   ]
  }
 ],
 "metadata": {
  "kernelspec": {
   "display_name": "Python [conda env:miniconda]",
   "language": "python",
   "name": "conda-env-miniconda-py"
  },
  "language_info": {
   "codemirror_mode": {
    "name": "ipython",
    "version": 3
   },
   "file_extension": ".py",
   "mimetype": "text/x-python",
   "name": "python",
   "nbconvert_exporter": "python",
   "pygments_lexer": "ipython3",
   "version": "3.6.8"
  }
 },
 "nbformat": 4,
 "nbformat_minor": 2
}
