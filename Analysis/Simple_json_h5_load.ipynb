{
 "cells": [
  {
   "cell_type": "code",
   "execution_count": null,
   "metadata": {
    "collapsed": true
   },
   "outputs": [],
   "source": [
    "import numpy as np\n",
    "import h5py as h5\n",
    "import json"
   ]
  },
  {
   "cell_type": "markdown",
   "metadata": {},
   "source": [
    "Change the channel names below to what is needed."
   ]
  },
  {
   "cell_type": "code",
   "execution_count": null,
   "metadata": {
    "collapsed": true
   },
   "outputs": [],
   "source": [
    "def LoadData(fn):\n",
    "    with h5.File(fn, 'r') as f:\n",
    "        TOF = -f['SAROP11-PALMK118:CH2_BUFFER/data'][:]\n",
    "        uTOF = -f['SAROP11-PALMK118:CH1_BUFFER/data'][:]\n",
    "        PulseIds = f['SAROP11-PALMK118:CH2_BUFFER/pulse_id'][:]\n",
    "# example for 25 Hz - note this is a work around, best to use event codes\n",
    "        index_laser = PulseIds%4 == 0\n",
    "    return(TOF[index_laser], uTOF[index_laser])"
   ]
  },
  {
   "cell_type": "markdown",
   "metadata": {},
   "source": [
    "Change fn below, if the following error is displayed:\n",
    "JSONDecodeError: Expecting value: line 1 column 1 (char 0)\n",
    "retry - its just the file isn't yet where ra looks"
   ]
  },
  {
   "cell_type": "code",
   "execution_count": null,
   "metadata": {},
   "outputs": [],
   "source": [
    "# load data from json file\n",
    "fn  = '/sf/alvra/data/p17806/res/PhotoDiag/scan_info/PALM_scan_028_scan_info.json'\n",
    "with open(fn) as f:\n",
    "    data = json.load(f)\n",
    "numFiles = len(data['scan_files'])\n",
    "StagePOS = data['scan_values'][:]\n",
    "\n",
    "wf_str = []\n",
    "wf_ref = []\n",
    "\n",
    "for i in range(0,numFiles):   \n",
    "    (tmpwf_str, tmpwf_ref) = LoadData(str(data['scan_files'][i][0]))\n",
    "    wf_str.append(tmpwf_str)\n",
    "    wf_ref.append(tmpwf_ref)\n",
    "    \n",
    "wf_str = np.asarray(wf_str)\n",
    "wf_ref = np.asarray(wf_ref)\n"
   ]
  }
 ],
 "metadata": {
  "kernelspec": {
   "display_name": "Python [conda env:miniconda]",
   "language": "python",
   "name": "conda-env-miniconda-py"
  },
  "language_info": {
   "codemirror_mode": {
    "name": "ipython",
    "version": 3
   },
   "file_extension": ".py",
   "mimetype": "text/x-python",
   "name": "python",
   "nbconvert_exporter": "python",
   "pygments_lexer": "ipython3",
   "version": "3.6.8"
  }
 },
 "nbformat": 4,
 "nbformat_minor": 2
}
